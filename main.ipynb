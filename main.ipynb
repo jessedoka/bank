{
 "cells": [
  {
   "cell_type": "code",
   "execution_count": null,
   "metadata": {},
   "outputs": [],
   "source": [
    "import os\n",
    "import re\n",
    "import pandas as pd\n",
    "from datetime import datetime\n",
    "from matplotlib import pyplot as plt\n",
    "import seaborn as sns"
   ]
  },
  {
   "cell_type": "markdown",
   "metadata": {},
   "source": [
    "# Data Collection"
   ]
  },
  {
   "cell_type": "code",
   "execution_count": null,
   "metadata": {},
   "outputs": [],
   "source": [
    "# List of csv files\n",
    "files = ['data/19219343.csv', 'data/23234816.csv', 'data/31521347.csv']\n",
    "\n",
    "# Use a list comprehension to read each file into a DataFrame and concatenate them\n",
    "merged = pd.concat([pd.read_csv(f, sep=',') for f in files], ignore_index=True, sort=True)"
   ]
  },
  {
   "cell_type": "markdown",
   "metadata": {},
   "source": [
    "## Future Plans: \n",
    "\n",
    "- Connect Bank API\n",
    "- Apply a merkle tree that can be used to verify the integrity of the data"
   ]
  },
  {
   "cell_type": "code",
   "execution_count": null,
   "metadata": {},
   "outputs": [],
   "source": [
    "# sort by date\n",
    "merged['Date'] = pd.to_datetime(merged['Date'], format='%d/%m/%Y')\n",
    "# split Memo into two strings BARCLAYS PINGIT       \tFROM NINTENDO SWIC PN e.g. BARCLAYS PINGIT\n",
    "merged[\"Name\"] = merged[\"Memo\"].str.split(\"\\t\").str[0]\n",
    "merged[\"Description\"] = merged[\"Memo\"].str.split(\"\\t\").str[1]\n",
    "merged = merged.sort_values(by=['Date'])\n",
    "\n",
    "# rename number to ID\n",
    "merged = merged.rename(columns={'Number': 'ID'})\n",
    "merged = merged.reset_index(drop=True)"
   ]
  },
  {
   "cell_type": "code",
   "execution_count": null,
   "metadata": {},
   "outputs": [],
   "source": [
    "merged.head()"
   ]
  },
  {
   "cell_type": "code",
   "execution_count": null,
   "metadata": {},
   "outputs": [],
   "source": [
    "# types of data\n",
    "merged.dtypes "
   ]
  },
  {
   "cell_type": "code",
   "execution_count": null,
   "metadata": {},
   "outputs": [],
   "source": [
    "# change ID to a string\n",
    "merged['ID'] = merged['ID'].astype(str)"
   ]
  },
  {
   "cell_type": "code",
   "execution_count": null,
   "metadata": {},
   "outputs": [],
   "source": [
    "# types of data\n",
    "merged.dtypes "
   ]
  },
  {
   "cell_type": "code",
   "execution_count": null,
   "metadata": {},
   "outputs": [],
   "source": [
    "merged['ID'].value_counts()[1:] # 1: to remove the 0 as it its not associated with a transaction name. "
   ]
  },
  {
   "cell_type": "code",
   "execution_count": null,
   "metadata": {},
   "outputs": [],
   "source": [
    "target_id = merged['ID'].value_counts()[1:].index.tolist()\n",
    "target_id"
   ]
  },
  {
   "cell_type": "code",
   "execution_count": null,
   "metadata": {},
   "outputs": [],
   "source": [
    "# return a set of all names \n",
    "names = merged['Name'].unique()\n",
    "\n",
    "# catorgorise the names into groups\n",
    "\n",
    "list(names)\n"
   ]
  },
  {
   "cell_type": "code",
   "execution_count": null,
   "metadata": {},
   "outputs": [],
   "source": [
    "# return only the Memo column for the target ID and amount associated with it\n",
    "def get_memo(id):\n",
    "    df = merged[merged['ID'] == id]\n",
    "    df = df[['Memo', 'Amount']]\n",
    "    df = df.reset_index(drop=True)\n",
    "    return df\n",
    "\n",
    "for i in target_id:\n",
    "    print(i, get_memo(i))"
   ]
  },
  {
   "cell_type": "markdown",
   "metadata": {},
   "source": [
    "This does Identify some recurring payments but not all of them. Looking at most common amounts might give us a clue about what is going on.\n",
    "\n",
    "A recurring payment is a type of financial transaction where a customer provides authorization to a business or service provider to automatically charge their account at regular intervals for products or services. The conditions that classify a payment as recurring typically include:\n",
    "\n",
    "1. **Regular Frequency:** Recurring payments occur at regular intervals, such as weekly, monthly, quarterly, or annually. The frequency is predetermined and agreed upon between the payer and the payee.\n",
    "\n",
    "2. **Authorization:** The payer must provide explicit authorization for the recurring payment. This authorization may be given through various means, including signed agreements, online forms, or terms and conditions agreed to during the sign-up process.\n",
    "\n",
    "3. **Fixed or Variable Amounts:** Recurring payments can involve fixed amounts (e.g., subscription fees) or variable amounts (e.g., utility bills based on usage). The key is that the payment is expected to occur regularly.\n",
    "\n",
    "4. **Automated Processing:** Recurring payments are typically processed automatically without requiring manual intervention from the payer for each transaction. Automated systems handle the payment based on the agreed-upon schedule.\n",
    "\n",
    "5. **Continuity of Service or Product:** Recurring payments are often associated with ongoing services or subscriptions. As long as the service or subscription continues, the recurring payments will persist.\n",
    "\n",
    "Common examples of recurring payments include:\n",
    "\n",
    "- **Subscription Services:** Monthly fees for streaming services, magazines, or software subscriptions.\n",
    "- **Utility Bills:** Monthly bills for electricity, water, gas, etc.\n",
    "- **Loan Repayments:** Regular payments toward a loan or mortgage.\n",
    "- **Membership Fees:** Regular fees for gym memberships, clubs, or professional associations.\n",
    "\n",
    "It's important for businesses to be transparent about their recurring payment policies and ensure that customers are aware of the terms and conditions before authorizing such transactions. Additionally, customers should have the ability to easily cancel or modify recurring payments when necessary."
   ]
  },
  {
   "cell_type": "code",
   "execution_count": null,
   "metadata": {},
   "outputs": [],
   "source": [
    "# add a column that indentifies the type of transaction expense or income\n",
    "merged['Type'] = merged['Amount'].apply(lambda x: 'Expense' if x < 0 else 'Income')"
   ]
  },
  {
   "cell_type": "code",
   "execution_count": null,
   "metadata": {},
   "outputs": [],
   "source": [
    "def check_recurring(id):\n",
    "    \"\"\"Identify recurring transactions based on the date and amount and ID. \n",
    "    \n",
    "    Keyword arguments:\n",
    "    argument -- description\n",
    "    Return: return_description\n",
    "    \"\"\"\n",
    "    pass "
   ]
  },
  {
   "cell_type": "code",
   "execution_count": null,
   "metadata": {},
   "outputs": [],
   "source": [
    "# add a day of the month column\n",
    "merged['Day']= merged['Date'].dt.day\n",
    "merged['M/Y'] = merged['Date'].dt.strftime('%m/%Y')"
   ]
  },
  {
   "cell_type": "code",
   "execution_count": null,
   "metadata": {},
   "outputs": [],
   "source": [
    "# Example: Grouping by transaction amount and date\n",
    "grouped_expense = merged[merged['Type'] == 'Expense'].groupby(['Day', 'Amount']).size().reset_index(name='TransactionCount')\n",
    "\n",
    "# Example: Filter transactions with a count greater than a threshold\n",
    "recurring_payments = grouped_expense[grouped_expense['TransactionCount'] > 3]\n"
   ]
  },
  {
   "cell_type": "code",
   "execution_count": null,
   "metadata": {},
   "outputs": [],
   "source": [
    "recurring_payments.head()\n",
    "# if recurring payments appears in merged dataframe, then it is a recurring payment tag it \n",
    "\n",
    "merged['Recurring'] = merged.apply(lambda x: True if x['Day'] in recurring_payments['Day'].values and x['Amount'] in recurring_payments['Amount'].values else False, axis=1)"
   ]
  },
  {
   "cell_type": "code",
   "execution_count": null,
   "metadata": {},
   "outputs": [],
   "source": [
    "merged.head()"
   ]
  },
  {
   "cell_type": "code",
   "execution_count": null,
   "metadata": {},
   "outputs": [],
   "source": [
    "def categorize_transaction(description):\n",
    "    description = description.lower()\n",
    "\n",
    "    # e.g grocery_keywords = ['tesco', 'asda', 'sainsbury']\n",
    "\n",
    "    grocery_keywords = []\n",
    "    dining_keywords = []\n",
    "    online_shopping_keywords = []\n",
    "    transportation_keywords = []\n",
    "    utilities_keywords = []\n",
    "    entertainment_keywords = []\n",
    "    subscription_keywords = []\n",
    "    clothing_keywords = []\n",
    "    bank_fees_keywords = []\n",
    "    financing_keywords = []\n",
    "    savings_keywords = []\n",
    "    trading_keywords = []\n",
    "\n",
    "    for keyword_list, category in zip(\n",
    "        [grocery_keywords, dining_keywords, online_shopping_keywords, transportation_keywords,\n",
    "         utilities_keywords, entertainment_keywords, subscription_keywords, clothing_keywords,\n",
    "         bank_fees_keywords, financing_keywords, savings_keywords, trading_keywords],\n",
    "        ['Groceries', 'Dining Out', 'Online Shopping', 'Transportation', 'Utilities', 'Entertainment',\n",
    "            'Subscription Services', 'Clothing and Accessories', 'Bank Fees', 'Financing', 'Savings', 'Trading']\n",
    "    ):\n",
    "        for keyword in keyword_list:\n",
    "            if keyword in description:\n",
    "                return category\n",
    "\n",
    "    return 'Miscellaneous'\n",
    "\n",
    "\n",
    "# Example Usage:\n",
    "# transactions = ['MCDONALDS', 'AMAZON.CO.UK*V697Y LUXEMBOURG']\n",
    "# for transaction in transactions:\n",
    "#     category = categorize_transaction(transaction)\n",
    "#     print(f'Transaction: {transaction}, Category: {category}')\n",
    "\n",
    "\n",
    "merged['Category'] = merged['Name'].apply(categorize_transaction)\n",
    "\n"
   ]
  },
  {
   "cell_type": "code",
   "execution_count": null,
   "metadata": {},
   "outputs": [],
   "source": [
    "# if subcategory is a funds transfer and the memo starts with a 6 digit number, then it is a transfer in the catergory column if it does not start with a 6 digit number then it is a payee transfer\n",
    "\n",
    "merged['Category'] = merged.apply(lambda x: 'Transfer' if x['Subcategory'] == 'Funds Transfer' and re.match(r'^\\d{6}', x['Memo']) else x['Category'], axis=1)\n",
    "\n",
    "merged['Category'] = merged.apply(lambda x: 'Payee Transfer' if x['Subcategory'] == 'Funds Transfer' and not re.match(r'^\\d{6}', x['Memo']) else x['Category'], axis=1)\n",
    "\n",
    "# mark catergory as an income if the amount is greater than 0\n",
    "merged['Category'] = merged.apply(lambda x: 'Income' if x['Amount'] > 0 else x['Category'], axis=1)"
   ]
  },
  {
   "cell_type": "code",
   "execution_count": null,
   "metadata": {},
   "outputs": [],
   "source": [
    "# remove all transfers from the dataframe\n",
    "merged = merged[merged['Category'] != 'Transfer']"
   ]
  },
  {
   "cell_type": "code",
   "execution_count": null,
   "metadata": {},
   "outputs": [],
   "source": [
    "merged.head()"
   ]
  },
  {
   "cell_type": "markdown",
   "metadata": {},
   "source": [
    "# Plotting"
   ]
  },
  {
   "cell_type": "code",
   "execution_count": null,
   "metadata": {},
   "outputs": [],
   "source": [
    "# Example: Plotting a histogram of recurring payment counts\n",
    "\n",
    "recurring_payments['TransactionCount'].hist()\n",
    "plt.xlabel('Number of Recurring Payments')\n",
    "plt.ylabel('Frequency')\n",
    "plt.show()\n"
   ]
  },
  {
   "cell_type": "code",
   "execution_count": null,
   "metadata": {},
   "outputs": [],
   "source": [
    "# plot the number of transactions per day\n",
    "merged['Date'].value_counts().plot()"
   ]
  },
  {
   "cell_type": "markdown",
   "metadata": {},
   "source": [
    "# Cleaning the Data"
   ]
  },
  {
   "cell_type": "code",
   "execution_count": null,
   "metadata": {},
   "outputs": [],
   "source": [
    "# create a new dataframe around the category column with totals for each month \n",
    "# e.g. Groceries 100, Dining Out 200, Online Shopping 300, etc for each month\n",
    "\n",
    "# Assuming df is your original DataFrame and it has columns 'category', 'month' and 'amount'\n",
    "# 'month' is the column that represents the month of each transaction\n",
    "# 'amount' is the column that represents the amount of each transaction but it must be negative for expenses \n",
    "\n",
    "grouped_merge = merged.groupby(['Category', 'M/Y'])['Amount'].sum().sort_values(ascending=False).reset_index(name='Total Amount')\n",
    "# This will give you a new DataFrame with each row representing a unique category-month combination and the total amount for that combination.\n",
    "\n",
    "# sort by m/y which is the month and year\n",
    "# grouped_merge['M/Y'] = pd.to_datetime(grouped_merge['M/Y'], format='%m/%Y')\n",
    "grouped_merge = grouped_merge.sort_values(by=['M/Y'])"
   ]
  },
  {
   "cell_type": "code",
   "execution_count": null,
   "metadata": {},
   "outputs": [],
   "source": [
    "grouped_merge.head()"
   ]
  },
  {
   "cell_type": "code",
   "execution_count": null,
   "metadata": {},
   "outputs": [],
   "source": [
    "grouped_merge.dtypes"
   ]
  },
  {
   "cell_type": "markdown",
   "metadata": {},
   "source": [
    "# Output"
   ]
  },
  {
   "cell_type": "code",
   "execution_count": null,
   "metadata": {},
   "outputs": [],
   "source": [
    "grouped_merge.to_pickle('data/merged.pkl')\n",
    "grouped_merge.to_csv('data/groupm.csv', index=False)\n",
    "merged.to_csv('data/merged.csv', index=False)"
   ]
  },
  {
   "cell_type": "code",
   "execution_count": null,
   "metadata": {},
   "outputs": [],
   "source": [
    "# later on, well use a merkle tree to verify the data integrity and regularly check the data with new data from barclays api. "
   ]
  }
 ],
 "metadata": {
  "kernelspec": {
   "display_name": "venv",
   "language": "python",
   "name": "python3"
  },
  "language_info": {
   "codemirror_mode": {
    "name": "ipython",
    "version": 3
   },
   "file_extension": ".py",
   "mimetype": "text/x-python",
   "name": "python",
   "nbconvert_exporter": "python",
   "pygments_lexer": "ipython3",
   "version": "3.11.4"
  }
 },
 "nbformat": 4,
 "nbformat_minor": 2
}
